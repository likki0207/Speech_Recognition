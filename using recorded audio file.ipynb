{
 "cells": [
  {
   "cell_type": "code",
   "execution_count": 2,
   "metadata": {},
   "outputs": [],
   "source": [
    "# use the \"speech_recognition\" module for speech recognition.\n",
    "import speech_recognition as sr"
   ]
  },
  {
   "cell_type": "code",
   "execution_count": 4,
   "metadata": {},
   "outputs": [],
   "source": [
    "# Creating Speech recognition object\n",
    "ob=sr.Recognizer()\n"
   ]
  },
  {
   "cell_type": "code",
   "execution_count": 5,
   "metadata": {},
   "outputs": [
    {
     "name": "stdout",
     "output_type": "stream",
     "text": [
      "Please provide the file with extension:audio.wav\n",
      "Speech Recognition using python\n"
     ]
    }
   ],
   "source": [
    "# now use the recorded audio file and audio file should be in wav format.\n",
    "name=input(\"Please provide the file with extension:\") \n",
    "with sr.AudioFile(name) as source:\n",
    "    audio_file=ob.listen(source)\n",
    "    try:\n",
    "        text=ob.recognize_google(audio_file)\n",
    "        print(text)\n",
    "    except:\n",
    "        print('Check your internet connection and make sure that your file extension is .wav')"
   ]
  }
 ],
 "metadata": {
  "kernelspec": {
   "display_name": "Python 3",
   "language": "python",
   "name": "python3"
  },
  "language_info": {
   "codemirror_mode": {
    "name": "ipython",
    "version": 3
   },
   "file_extension": ".py",
   "mimetype": "text/x-python",
   "name": "python",
   "nbconvert_exporter": "python",
   "pygments_lexer": "ipython3",
   "version": "3.7.7"
  }
 },
 "nbformat": 4,
 "nbformat_minor": 4
}
